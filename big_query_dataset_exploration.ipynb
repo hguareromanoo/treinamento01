{
 "cells": [
  {
   "cell_type": "code",
   "execution_count": 2,
   "id": "63b26b4d",
   "metadata": {},
   "outputs": [],
   "source": [
    "import os\n",
    "\n",
    "os.environ[\"GOOGLE_APPLICATION_CREDENTIALS\"] = \"credenciais.json\""
   ]
  },
  {
   "cell_type": "code",
   "execution_count": 3,
   "id": "eb3b9699",
   "metadata": {},
   "outputs": [
    {
     "name": "stdout",
     "output_type": "stream",
     "text": [
      "Dataset ID: Farmacias\n",
      "Table ID: Historico_Vendas_Farma_Ponte\n",
      "Table ID: Historico_Vendas_Sao_Joao\n",
      "Table ID: Historico_Vendas_Sao_Paulo\n",
      "Table ID: Historico_Vendas_Vera_Cruz\n"
     ]
    }
   ],
   "source": [
    "from google.cloud import bigquery\n",
    "\n",
    "client = bigquery.Client()\n",
    "# descoberta de dataset\n",
    "for dataset in client.list_datasets():\n",
    "    print(f\"Dataset ID: {dataset.dataset_id}\")\n",
    "\n",
    "# descoberta de tabelas\n",
    "for table in client.list_tables('Farmacias'):\n",
    "    print(f\"Table ID: {table.table_id}\")"
   ]
  },
  {
   "cell_type": "code",
   "execution_count": 4,
   "id": "af1c0372",
   "metadata": {},
   "outputs": [
    {
     "name": "stdout",
     "output_type": "stream",
     "text": [
      "Table Historico_Vendas_Farma_Ponte has 48193 rows and 5 columns.\n",
      "int64_field_0 INTEGER NULLABLE\n",
      "venda_id INTEGER NULLABLE\n",
      "nome_produto STRING NULLABLE\n",
      "data_venda STRING NULLABLE\n",
      "quantidade FLOAT NULLABLE\n",
      "Table Historico_Vendas_Sao_Joao has 72481 rows and 5 columns.\n",
      "int64_field_0 INTEGER NULLABLE\n",
      "venda_id INTEGER NULLABLE\n",
      "nome_produto STRING NULLABLE\n",
      "data_venda STRING NULLABLE\n",
      "quantidade FLOAT NULLABLE\n",
      "Table Historico_Vendas_Sao_Paulo has 71240 rows and 5 columns.\n",
      "int64_field_0 INTEGER NULLABLE\n",
      "venda_id INTEGER NULLABLE\n",
      "nome_produto STRING NULLABLE\n",
      "data_venda STRING NULLABLE\n",
      "quantidade FLOAT NULLABLE\n",
      "Table Historico_Vendas_Vera_Cruz has 30756 rows and 5 columns.\n",
      "int64_field_0 INTEGER NULLABLE\n",
      "venda_id INTEGER NULLABLE\n",
      "nome_produto STRING NULLABLE\n",
      "data_venda STRING NULLABLE\n",
      "quantidade FLOAT NULLABLE\n"
     ]
    }
   ],
   "source": [
    "for id in ['Historico_Vendas_Farma_Ponte', 'Historico_Vendas_Sao_Joao', 'Historico_Vendas_Sao_Paulo', 'Historico_Vendas_Vera_Cruz']:\n",
    "    table = client.get_table(f'Farmacias.{id}')\n",
    "    print(f\"Table {table.table_id} has {table.num_rows} rows and {len(table.schema)} columns.\")\n",
    "    for schema_field in table.schema:\n",
    "        print(schema_field.name, schema_field.field_type, schema_field.mode)\n"
   ]
  },
  {
   "cell_type": "markdown",
   "id": "4cd5ed44",
   "metadata": {},
   "source": [
    "## Estrutura do dataset:\n",
    "Temos um dataset de Farmácias, que armazena o histórico de vendas de 4 farmácias: São Paulo, São João, Veracruz e Farma Ponte. \n",
    "\n",
    "## Histórico de Vendas:\n",
    "O histórico de vendas é armazenado segundo a seguinte estrutura:\n",
    "```sql\n",
    "int64_field_0 INTEGER NULLABLE\n",
    "venda_id INTEGER NULLABLE\n",
    "nome_produto STRING NULLABLE\n",
    "data_venda STRING NULLABLE\n",
    "quantidade FLOAT NULLABLE\n",
    "```"
   ]
  },
  {
   "cell_type": "code",
   "execution_count": 9,
   "id": "b347e3b7",
   "metadata": {},
   "outputs": [
    {
     "name": "stderr",
     "output_type": "stream",
     "text": [
      "/Users/henriqueromano/treinamento01/.venv/lib/python3.13/site-packages/google/cloud/bigquery/table.py:1994: UserWarning: BigQuery Storage module not found, fetch data with the REST endpoint instead.\n",
      "  warnings.warn(\n"
     ]
    },
    {
     "name": "stdout",
     "output_type": "stream",
     "text": [
      "<class 'pandas.core.frame.DataFrame'>\n",
      "RangeIndex: 30756 entries, 0 to 30755\n",
      "Data columns (total 5 columns):\n",
      " #   Column         Non-Null Count  Dtype  \n",
      "---  ------         --------------  -----  \n",
      " 0   int64_field_0  30756 non-null  Int64  \n",
      " 1   venda_id       30756 non-null  Int64  \n",
      " 2   nome_produto   30756 non-null  object \n",
      " 3   data_venda     30756 non-null  object \n",
      " 4   quantidade     28608 non-null  float64\n",
      "dtypes: Int64(2), float64(1), object(2)\n",
      "memory usage: 1.2+ MB\n"
     ]
    }
   ],
   "source": [
    "query = \"\"\"\n",
    "SELECT *\n",
    "FROM `Farmacias.Historico_Vendas_Vera_Cruz`\n",
    "\"\"\"\n",
    "df = client.query(query).to_dataframe()\n",
    "df.head()\n",
    "df.info()"
   ]
  },
  {
   "cell_type": "code",
   "execution_count": 10,
   "id": "d9555276",
   "metadata": {},
   "outputs": [],
   "source": [
    "with open('veracruz_data.csv', 'w', encoding='utf-8') as f:\n",
    "    df.to_csv(f, index=False)  # Salva o DataFrame em um arquivo CSV sem o índice"
   ]
  }
 ],
 "metadata": {
  "kernelspec": {
   "display_name": ".venv",
   "language": "python",
   "name": "python3"
  },
  "language_info": {
   "codemirror_mode": {
    "name": "ipython",
    "version": 3
   },
   "file_extension": ".py",
   "mimetype": "text/x-python",
   "name": "python",
   "nbconvert_exporter": "python",
   "pygments_lexer": "ipython3",
   "version": "3.13.2"
  }
 },
 "nbformat": 4,
 "nbformat_minor": 5
}
